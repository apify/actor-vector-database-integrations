{
 "cells": [
  {
   "cell_type": "markdown",
   "id": "dcb388f1-74e0-4c4c-a3c5-d34c3be99445",
   "metadata": {},
   "source": [
    "# Apify pinecone inegration\n",
    "Use Apify's Pinecone integration to seamlessly transfer selected data from Apify Actors to a Pinecone database.\n",
    "\n",
    "This example focuses on integrating Apify with Pinecone using the Apify Actors."
   ]
  },
  {
   "cell_type": "code",
   "execution_count": 14,
   "id": "87ba94df-494e-4b3f-bbab-e5598fc674f1",
   "metadata": {},
   "outputs": [
    {
     "name": "stdout",
     "output_type": "stream",
     "text": [
      "Requirement already satisfied: apify-client in /home/jirka/apify/store-vector-db/code/.venv/lib/python3.11/site-packages (1.6.4)\n",
      "Requirement already satisfied: apify-shared~=1.1.1 in /home/jirka/apify/store-vector-db/code/.venv/lib/python3.11/site-packages (from apify-client) (1.1.1)\n",
      "Requirement already satisfied: httpx>=0.25.1 in /home/jirka/apify/store-vector-db/code/.venv/lib/python3.11/site-packages (from apify-client) (0.27.0)\n",
      "Requirement already satisfied: anyio in /home/jirka/apify/store-vector-db/code/.venv/lib/python3.11/site-packages (from httpx>=0.25.1->apify-client) (4.3.0)\n",
      "Requirement already satisfied: certifi in /home/jirka/apify/store-vector-db/code/.venv/lib/python3.11/site-packages (from httpx>=0.25.1->apify-client) (2024.2.2)\n",
      "Requirement already satisfied: httpcore==1.* in /home/jirka/apify/store-vector-db/code/.venv/lib/python3.11/site-packages (from httpx>=0.25.1->apify-client) (1.0.5)\n",
      "Requirement already satisfied: idna in /home/jirka/apify/store-vector-db/code/.venv/lib/python3.11/site-packages (from httpx>=0.25.1->apify-client) (3.7)\n",
      "Requirement already satisfied: sniffio in /home/jirka/apify/store-vector-db/code/.venv/lib/python3.11/site-packages (from httpx>=0.25.1->apify-client) (1.3.1)\n",
      "Requirement already satisfied: h11<0.15,>=0.13 in /home/jirka/apify/store-vector-db/code/.venv/lib/python3.11/site-packages (from httpcore==1.*->httpx>=0.25.1->apify-client) (0.14.0)\n",
      "Note: you may need to restart the kernel to use updated packages.\n"
     ]
    }
   ],
   "source": [
    "pip install apify-client"
   ]
  },
  {
   "cell_type": "code",
   "execution_count": 15,
   "id": "2893de70-a82b-4ede-99a3-a09b25e620f7",
   "metadata": {},
   "outputs": [],
   "source": [
    "from apify_client import ApifyClient"
   ]
  },
  {
   "cell_type": "code",
   "execution_count": 16,
   "id": "0cb42c2a-8775-40b5-bc15-cae12b582167",
   "metadata": {},
   "outputs": [],
   "source": [
    "APIFY_API_TOKEN = \"YOUR APIFY TOKEN\"\n",
    "OPENAI_API_KEY = \"YOUR OPENAI API KEY\"\n",
    "PINECONE_TOKEN = \"YOUR PINECONE TOKEN\"\n",
    "\n",
    "client = ApifyClient(APIFY_API_TOKEN)\n",
    "\n",
    "pinecone_integration_inputs = {\n",
    "    \"index_name\": \"apify\",\n",
    "    \"pinecone_token\": PINECONE_TOKEN,\n",
    "    \"openai_token\": OPENAI_API_KEY,\n",
    "    \"fields\": [\"text\"],\n",
    "    \"perform_chunking\": True,\n",
    "    \"chunk_size\": 2048,\n",
    "    \"chunk_overlap\": 0,\n",
    "}"
   ]
  },
  {
   "cell_type": "markdown",
   "id": "775fb650-03ea-4f5c-ba78-68aa17e2796c",
   "metadata": {},
   "source": [
    "Call Apify's Website Content Crawler and crawl https://docs.pinecone.io/home (limited to return only 1 results)"
   ]
  },
  {
   "cell_type": "code",
   "execution_count": 17,
   "id": "e52af1ae-ef70-4f54-8f18-7e67d792a67c",
   "metadata": {},
   "outputs": [
    {
     "name": "stdout",
     "output_type": "stream",
     "text": [
      "Actor website content crawler finished\n"
     ]
    },
    {
     "data": {
      "text/plain": [
       "{'id': '35gIpfWbojKuaKO3f',\n",
       " 'actId': 'aYG0l9s7dbB7j3gbS',\n",
       " 'userId': 'vaTaQJYTC5hi1UCDf',\n",
       " 'startedAt': datetime.datetime(2024, 5, 22, 21, 8, 18, 384000, tzinfo=datetime.timezone.utc),\n",
       " 'finishedAt': datetime.datetime(2024, 5, 22, 21, 8, 54, 375000, tzinfo=datetime.timezone.utc),\n",
       " 'status': 'SUCCEEDED',\n",
       " 'statusMessage': 'Finished! Total 1 requests: 1 succeeded, 0 failed.',\n",
       " 'isStatusMessageTerminal': True,\n",
       " 'meta': {'origin': 'API',\n",
       "  'userAgent': 'ApifyClient/1.6.4 (linux; Python/3.11.3); isAtHome/False'},\n",
       " 'stats': {'inputBodyLen': 1087,\n",
       "  'rebootCount': 0,\n",
       "  'restartCount': 0,\n",
       "  'durationMillis': 35879,\n",
       "  'resurrectCount': 0,\n",
       "  'runTimeSecs': 35.879,\n",
       "  'metamorph': 0,\n",
       "  'computeUnits': 0.03986555555555556,\n",
       "  'memAvgBytes': 507361075.78049463,\n",
       "  'memMaxBytes': 877694976,\n",
       "  'memCurrentBytes': 0,\n",
       "  'cpuAvgUsage': 60.676578433355964,\n",
       "  'cpuMaxUsage': 141.05091319052988,\n",
       "  'cpuCurrentUsage': 0,\n",
       "  'netRxBytes': 7574424,\n",
       "  'netTxBytes': 337422},\n",
       " 'options': {'build': 'version-0',\n",
       "  'timeoutSecs': 360000,\n",
       "  'memoryMbytes': 4096,\n",
       "  'diskMbytes': 8192},\n",
       " 'buildId': 'JCBHe9Jpf6NA2rARE',\n",
       " 'exitCode': 0,\n",
       " 'defaultKeyValueStoreId': '9OIeSYkyVnurzq9TK',\n",
       " 'defaultDatasetId': '7da8yMYNDycybcGP3',\n",
       " 'defaultRequestQueueId': '1TAngp97W1z0waN1U',\n",
       " 'buildNumber': '0.3.34',\n",
       " 'containerUrl': 'https://mlvbc9c1sowo.runs.apify.net',\n",
       " 'usage': {'ACTOR_COMPUTE_UNITS': 0.03986555555555556,\n",
       "  'DATASET_READS': 0,\n",
       "  'DATASET_WRITES': 1,\n",
       "  'KEY_VALUE_STORE_READS': 1,\n",
       "  'KEY_VALUE_STORE_WRITES': 7,\n",
       "  'KEY_VALUE_STORE_LISTS': 0,\n",
       "  'REQUEST_QUEUE_READS': 1,\n",
       "  'REQUEST_QUEUE_WRITES': 4,\n",
       "  'DATA_TRANSFER_INTERNAL_GBYTES': 0.00584171898663044,\n",
       "  'DATA_TRANSFER_EXTERNAL_GBYTES': 0.0002995086833834648,\n",
       "  'PROXY_RESIDENTIAL_TRANSFER_GBYTES': 0,\n",
       "  'PROXY_SERPS': 0},\n",
       " 'usageTotalUsd': 0.01674220990823044,\n",
       " 'usageUsd': {'ACTOR_COMPUTE_UNITS': 0.015946222222222223,\n",
       "  'DATASET_READS': 0,\n",
       "  'DATASET_WRITES': 5e-06,\n",
       "  'KEY_VALUE_STORE_READS': 5e-06,\n",
       "  'KEY_VALUE_STORE_WRITES': 0.00035,\n",
       "  'KEY_VALUE_STORE_LISTS': 0,\n",
       "  'REQUEST_QUEUE_READS': 4e-06,\n",
       "  'REQUEST_QUEUE_WRITES': 8e-05,\n",
       "  'DATA_TRANSFER_INTERNAL_GBYTES': 0.000292085949331522,\n",
       "  'DATA_TRANSFER_EXTERNAL_GBYTES': 5.990173667669296e-05,\n",
       "  'PROXY_RESIDENTIAL_TRANSFER_GBYTES': 0,\n",
       "  'PROXY_SERPS': 0}}"
      ]
     },
     "execution_count": 17,
     "metadata": {},
     "output_type": "execute_result"
    }
   ],
   "source": [
    "actor_call = client.actor(\"apify/website-content-crawler\").call(\n",
    "    run_input={\"maxCrawlPages\": 1, \"startUrls\": [{\"url\": \"https://docs.pinecone.io/home\"}]}\n",
    ")\n",
    "\n",
    "print(\"Actor website content crawler finished\")\n",
    "actor_call"
   ]
  },
  {
   "cell_type": "markdown",
   "id": "18cbc3c0-3d93-4bc1-ab49-94422688bddd",
   "metadata": {},
   "source": [
    "Call Apify's Pinecone integration and store all data in the Pinecone Vector Database"
   ]
  },
  {
   "cell_type": "code",
   "execution_count": 18,
   "id": "ffbf466e-2c2c-4d09-af40-3fd216a0ae90",
   "metadata": {},
   "outputs": [
    {
     "name": "stdout",
     "output_type": "stream",
     "text": [
      "Apify's pinecone integration finished\n"
     ]
    },
    {
     "data": {
      "text/plain": [
       "{'id': 'iR3iIZZeOtWs9kkQb',\n",
       " 'actId': 'hlXrHgW69eovdGwaE',\n",
       " 'userId': 'vaTaQJYTC5hi1UCDf',\n",
       " 'startedAt': datetime.datetime(2024, 5, 22, 21, 8, 55, 371000, tzinfo=datetime.timezone.utc),\n",
       " 'finishedAt': datetime.datetime(2024, 5, 22, 21, 9, 0, 191000, tzinfo=datetime.timezone.utc),\n",
       " 'status': 'SUCCEEDED',\n",
       " 'meta': {'origin': 'API',\n",
       "  'userAgent': 'ApifyClient/1.6.4 (linux; Python/3.11.3); isAtHome/False'},\n",
       " 'stats': {'inputBodyLen': 1061,\n",
       "  'rebootCount': 0,\n",
       "  'restartCount': 0,\n",
       "  'durationMillis': 4687,\n",
       "  'resurrectCount': 0,\n",
       "  'runTimeSecs': 4.687,\n",
       "  'metamorph': 0,\n",
       "  'computeUnits': 0.005207777777777778,\n",
       "  'memAvgBytes': 45921876.9106422,\n",
       "  'memMaxBytes': 107581440,\n",
       "  'memCurrentBytes': 0,\n",
       "  'cpuAvgUsage': 30.875625020371864,\n",
       "  'cpuMaxUsage': 102.04602394454948,\n",
       "  'cpuCurrentUsage': 0,\n",
       "  'netRxBytes': 28149,\n",
       "  'netTxBytes': 5622},\n",
       " 'options': {'build': 'latest',\n",
       "  'timeoutSecs': 3600,\n",
       "  'memoryMbytes': 4096,\n",
       "  'diskMbytes': 8192},\n",
       " 'buildId': 'MSILbxF1RFVVU3YH4',\n",
       " 'exitCode': 0,\n",
       " 'defaultKeyValueStoreId': 'IkJzIz08hWqGdsfU4',\n",
       " 'defaultDatasetId': 'bFr1psL2paeq8m0a0',\n",
       " 'defaultRequestQueueId': 'ZSp0vfXtW4kb5rXmM',\n",
       " 'buildNumber': '0.0.63',\n",
       " 'containerUrl': 'https://0agwe64wgjju.runs.apify.net',\n",
       " 'usage': {'ACTOR_COMPUTE_UNITS': 0.005207777777777778,\n",
       "  'DATASET_READS': 0,\n",
       "  'DATASET_WRITES': 0,\n",
       "  'KEY_VALUE_STORE_READS': 0,\n",
       "  'KEY_VALUE_STORE_WRITES': 1,\n",
       "  'KEY_VALUE_STORE_LISTS': 0,\n",
       "  'REQUEST_QUEUE_READS': 0,\n",
       "  'REQUEST_QUEUE_WRITES': 0,\n",
       "  'DATA_TRANSFER_INTERNAL_GBYTES': 0,\n",
       "  'DATA_TRANSFER_EXTERNAL_GBYTES': 5.23589551448822e-06,\n",
       "  'PROXY_RESIDENTIAL_TRANSFER_GBYTES': 0,\n",
       "  'PROXY_SERPS': 0},\n",
       " 'usageTotalUsd': 0.0021341582902140092,\n",
       " 'usageUsd': {'ACTOR_COMPUTE_UNITS': 0.0020831111111111115,\n",
       "  'DATASET_READS': 0,\n",
       "  'DATASET_WRITES': 0,\n",
       "  'KEY_VALUE_STORE_READS': 0,\n",
       "  'KEY_VALUE_STORE_WRITES': 5e-05,\n",
       "  'KEY_VALUE_STORE_LISTS': 0,\n",
       "  'REQUEST_QUEUE_READS': 0,\n",
       "  'REQUEST_QUEUE_WRITES': 0,\n",
       "  'DATA_TRANSFER_INTERNAL_GBYTES': 0,\n",
       "  'DATA_TRANSFER_EXTERNAL_GBYTES': 1.0471791028976441e-06,\n",
       "  'PROXY_RESIDENTIAL_TRANSFER_GBYTES': 0,\n",
       "  'PROXY_SERPS': 0}}"
      ]
     },
     "execution_count": 18,
     "metadata": {},
     "output_type": "execute_result"
    }
   ],
   "source": [
    "pinecone_integration_inputs[\"dataset_id\"] = actor_call[\"defaultDatasetId\"]\n",
    "actor_call = client.actor(\"jan.turon/pinecone-integration\").call(run_input=pinecone_integration_inputs)\n",
    "print(\"Apify's pinecone integration finished\")\n",
    "actor_call"
   ]
  }
 ],
 "metadata": {
  "kernelspec": {
   "display_name": "Python 3 (ipykernel)",
   "language": "python",
   "name": "python3"
  },
  "language_info": {
   "codemirror_mode": {
    "name": "ipython",
    "version": 3
   },
   "file_extension": ".py",
   "mimetype": "text/x-python",
   "name": "python",
   "nbconvert_exporter": "python",
   "pygments_lexer": "ipython3",
   "version": "3.11.3"
  }
 },
 "nbformat": 4,
 "nbformat_minor": 5
}
