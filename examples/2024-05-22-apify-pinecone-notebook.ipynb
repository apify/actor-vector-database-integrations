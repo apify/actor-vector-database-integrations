{
 "cells": [
  {
   "cell_type": "markdown",
   "id": "dcb388f1-74e0-4c4c-a3c5-d34c3be99445",
   "metadata": {},
   "source": [
    "# Apify pinecone inegration\n",
    "Use Apify's Pinecone integration to seamlessly transfer selected data from Apify Actors to a Pinecone database.\n",
    "\n",
    "This example focuses on integrating Apify with Pinecone using the Apify Actors."
   ]
  },
  {
   "cell_type": "code",
   "execution_count": null,
   "id": "87ba94df-494e-4b3f-bbab-e5598fc674f1",
   "metadata": {},
   "outputs": [],
   "source": [
    "pip install apify-client"
   ]
  },
  {
   "cell_type": "code",
   "execution_count": null,
   "id": "2893de70-a82b-4ede-99a3-a09b25e620f7",
   "metadata": {},
   "outputs": [],
   "source": [
    "from apify_client import ApifyClient"
   ]
  },
  {
   "cell_type": "code",
   "execution_count": null,
   "id": "0cb42c2a-8775-40b5-bc15-cae12b582167",
   "metadata": {},
   "outputs": [],
   "source": [
    "APIFY_API_TOKEN = \"YOUR APIFY TOKEN\"\n",
    "OPENAI_API_KEY = \"YOUR OPENAI API KEY\"\n",
    "PINECONE_TOKEN = \"YOUR PINECONE TOKEN\"\n",
    "\n",
    "client = ApifyClient(APIFY_API_TOKEN)\n",
    "\n",
    "pinecone_integration_inputs = {\n",
    "    \"index_name\": \"apify\",\n",
    "    \"pinecone_token\": PINECONE_TOKEN,\n",
    "    \"openai_token\": OPENAI_API_KEY,\n",
    "    \"fields\": [\"text\"],\n",
    "    \"perform_chunking\": True,\n",
    "    \"chunk_size\": 2048,\n",
    "    \"chunk_overlap\": 0,\n",
    "}"
   ]
  },
  {
   "cell_type": "markdown",
   "id": "775fb650-03ea-4f5c-ba78-68aa17e2796c",
   "metadata": {},
   "source": [
    "Call Apify's Website Content Crawler and crawl https://docs.pinecone.io/home (limited to return only 1 results)"
   ]
  },
  {
   "cell_type": "code",
   "execution_count": null,
   "id": "e52af1ae-ef70-4f54-8f18-7e67d792a67c",
   "metadata": {},
   "outputs": [],
   "source": [
    "actor_call = client.actor(\"apify/website-content-crawler\").call(\n",
    "    run_input={\"maxCrawlPages\": 1, \"startUrls\": [{\"url\": \"https://docs.pinecone.io/home\"}]}\n",
    ")\n",
    "\n",
    "print(\"Actor website content crawler finished\")\n",
    "actor_call"
   ]
  },
  {
   "cell_type": "markdown",
   "id": "18cbc3c0-3d93-4bc1-ab49-94422688bddd",
   "metadata": {},
   "source": [
    "Call Apify's Pinecone integration and store all data in the Pinecone Vector Database"
   ]
  },
  {
   "cell_type": "code",
   "execution_count": null,
   "id": "ffbf466e-2c2c-4d09-af40-3fd216a0ae90",
   "metadata": {},
   "outputs": [],
   "source": [
    "pinecone_integration_inputs[\"dataset_id\"] = actor_call[\"defaultDatasetId\"]\n",
    "actor_call = client.actor(\"jan.turon/pinecone-integration\").call(run_input=pinecone_integration_inputs)\n",
    "print(\"Apify's pinecone integration finished\")\n",
    "actor_call"
   ]
  }
 ],
 "metadata": {
  "kernelspec": {
   "display_name": "Python 3 (ipykernel)",
   "language": "python",
   "name": "python3"
  },
  "language_info": {
   "codemirror_mode": {
    "name": "ipython",
    "version": 3
   },
   "file_extension": ".py",
   "mimetype": "text/x-python",
   "name": "python",
   "nbconvert_exporter": "python",
   "pygments_lexer": "ipython3",
   "version": "3.11.3"
  }
 },
 "nbformat": 4,
 "nbformat_minor": 5
}
